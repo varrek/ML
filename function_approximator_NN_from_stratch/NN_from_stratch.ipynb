{
 "cells": [
  {
   "cell_type": "code",
   "execution_count": 188,
   "id": "changed-burner",
   "metadata": {},
   "outputs": [],
   "source": [
    "import numpy as np\n",
    "import matplotlib.pyplot as plt\n",
    "\n",
    "def sigmoid(x):\n",
    "    return 1/(1+np.exp(-x))\n",
    "\n",
    "def sigmoid_der(x):\n",
    "    s = 1 / (1 + np.exp(-X))\n",
    "    return s * (1 - s)\n",
    "\n",
    "def da_dz(Z): #sigmoid_backward\n",
    "    return np.exp(-Z) * np.power(1 + np.exp(-Z), -2)"
   ]
  },
  {
   "cell_type": "code",
   "execution_count": 189,
   "id": "incorporate-bicycle",
   "metadata": {},
   "outputs": [
    {
     "data": {
      "image/png": "[encoded data removed]",
      "text/plain": [
       "<Figure size 432x288 with 1 Axes>"
      ]
     },
     "metadata": {
      "needs_background": "light"
     },
     "output_type": "display_data"
    }
   ],
   "source": [
    "X = np.linspace(-10, 10, 101)\n",
    "plt.plot(X, sigmoid(X))\n",
    "plt.show()"
   ]
  },
  {
   "cell_type": "code",
   "execution_count": 190,
   "id": "raised-walter",
   "metadata": {},
   "outputs": [],
   "source": [
    "input_shape = 1\n",
    "layer_dims = [input_shape, 4,4, 1]"
   ]
  },
  {
   "cell_type": "code",
   "execution_count": 193,
   "id": "welcome-quantity",
   "metadata": {},
   "outputs": [],
   "source": [
    "def init(layer_dims):\n",
    "    np.random.seed(42)\n",
    "    #X = np.asarray(np.arange(-1, 4, 0.1)) # gives (50,), so (number of examples, input size)\n",
    "    #X = np.random.randn(100)\n",
    "    X = np.asarray([i for i in range(-50,51)])\n",
    "    L = len(layer_dims) # number of layers in the network\n",
    "    W = [(np.random.rand(layer_dims[l], layer_dims[l-1]))-0.5 for l in range(0,L)]\n",
    "    #W=[(np.random.rand(m, n)-0.5) for n, m in zip(layer_dims[:-1], layer_dims[1:])]\n",
    "    b = [np.zeros((layer_dims[l], 1)) for l in range(0,L)]\n",
    "    #b = [(np.random.rand(m)-0.5) for m in layer_dims[1:]]\n",
    "    #for l in range(0,len(W)):\n",
    "        #assert(W[l].shape == (layer_dims[l+1], layer_dims[l]))\n",
    "        #assert(b[l].shape == (layer_dims[l+1], 1))\n",
    "    return X, W, b, L\n",
    "\n",
    "def origin_functon(x):\n",
    "    \"\"\"\n",
    "    y = a*x^3+b*x^2+c*x+d\n",
    "    :param X:\n",
    "    :return:\n",
    "    \"\"\"\n",
    "    a = 1\n",
    "    b = -4\n",
    "    c = 1\n",
    "    d = 1\n",
    "    y = a * np.power(x, 3) + b * np.power(x, 2) + c * x + d\n",
    "    return y"
   ]
  },
  {
   "cell_type": "code",
   "execution_count": 194,
   "id": "optical-moral",
   "metadata": {},
   "outputs": [],
   "source": [
    "X, W, b, L = init(layer_dims)\n",
    "X_init = X\n",
    "Y = np.array(([i**2.0 for i in X]))"
   ]
  },
  {
   "cell_type": "code",
   "execution_count": 195,
   "id": "flexible-standing",
   "metadata": {},
   "outputs": [
    {
     "data": {
      "text/plain": [
       "[<matplotlib.lines.Line2D at 0x7fd372e59940>]"
      ]
     },
     "execution_count": 195,
     "metadata": {},
     "output_type": "execute_result"
    },
    {
     "data": {
      "image/png": "[encoded data removed]",
      "text/plain": [
       "<Figure size 432x288 with 1 Axes>"
      ]
     },
     "metadata": {
      "needs_background": "light"
     },
     "output_type": "display_data"
    }
   ],
   "source": [
    "plt.plot(X_init, Y)"
   ]
  },
  {
   "cell_type": "code",
   "execution_count": 196,
   "id": "statewide-charity",
   "metadata": {},
   "outputs": [],
   "source": [
    "act = []\n",
    "act.append(np.array([X]))"
   ]
  },
  {
   "cell_type": "code",
   "execution_count": 197,
   "id": "sublime-persian",
   "metadata": {},
   "outputs": [
    {
     "name": "stdout",
     "output_type": "stream",
     "text": [
      "4\n"
     ]
    }
   ],
   "source": [
    "def linear_activation_forward(A, W, b):\n",
    "    Z = np.dot(W, A) + b\n",
    "    cache = (A, W, b, Z)\n",
    "    A = sigmoid(Z)\n",
    "    return A, cache\n",
    "\n",
    "def feedforward(A, W, b, L):\n",
    "    caches = []\n",
    "    for l in range(0, L-1):\n",
    "        A_prev = A\n",
    "        A, cache = linear_activation_forward(A_prev, W[l], b[l])\n",
    "        caches.append(cache)\n",
    "    A, cache = linear_activation_forward(A, W[L-1], b[L-1])\n",
    "    caches.append(cache)\n",
    "    return A, caches\n",
    "X = X.reshape(1,X.shape[0]) # reshape to (input size, number of examples), np.array([X])\n",
    "pred, caches = feedforward(X, W, b, L)\n",
    "print(len(caches))"
   ]
  },
  {
   "cell_type": "code",
   "execution_count": 198,
   "id": "treated-morrison",
   "metadata": {},
   "outputs": [],
   "source": [
    "def get_cost (Y, A):\n",
    "    cost = np.mean((A - Y)**2)\n",
    "    return cost"
   ]
  },
  {
   "cell_type": "code",
   "execution_count": 199,
   "id": "acting-variation",
   "metadata": {},
   "outputs": [],
   "source": [
    "costs = get_cost(Y, pred)"
   ]
  },
  {
   "cell_type": "code",
   "execution_count": 200,
   "id": "naval-reason",
   "metadata": {},
   "outputs": [
    {
     "data": {
      "text/plain": [
       "1299627.1239311532"
      ]
     },
     "execution_count": 200,
     "metadata": {},
     "output_type": "execute_result"
    }
   ],
   "source": [
    "costs"
   ]
  },
  {
   "cell_type": "code",
   "execution_count": 201,
   "id": "adjustable-flour",
   "metadata": {},
   "outputs": [],
   "source": [
    "#cost derivitative dc_da\n",
    "def dc_da(A, Y):\n",
    "    return (A-Y)\n",
    "\n",
    "def backward_pass(A, Y, caches, L):\n",
    "    grads = {}\n",
    "    dA = - (np.divide(Y, A) - np.divide(1 - Y, 1 - A))\n",
    "    m = A.shape[1]\n",
    "    A_prev, W, b, Z = caches[L-1]\n",
    "    dZ = dA*sigmoid_der(Z)\n",
    "    grads[\"dW\" + str(L-1)] = (1 / m)*np.dot(dZ,A_prev.transpose())\n",
    "    grads[\"db\" + str(L-1)] = (1 / m)*np.sum(dZ, axis=1, keepdims=True)\n",
    "    dA_prev = np.dot(W.T, dZ)\n",
    "    for l in reversed(range(L-1)):\n",
    "        current_cache = caches[l]\n",
    "        A_prev, W, b, Z = current_cache\n",
    "        m = A_prev.shape[1]\n",
    "        dZ = dA_prev*sigmoid_der(Z)\n",
    "        dW = (1 / m)*np.dot(dZ,A_prev.transpose())\n",
    "        db = (1 / m)*np.sum(dZ, axis=1, keepdims=True)\n",
    "        if l > 1:\n",
    "            dA_prev = np.dot(W, dZ)\n",
    "        grads[\"dW\" + str(l)] = dW\n",
    "        grads[\"db\" + str(l)] = db\n",
    "    return grads\n",
    "grads = backward_pass(pred, Y, caches, L)"
   ]
  },
  {
   "cell_type": "code",
   "execution_count": 202,
   "id": "searching-teacher",
   "metadata": {},
   "outputs": [],
   "source": [
    "def update_parameters(W, b, grads, learning_rate):\n",
    "    for l in range(1,L-1):\n",
    "        W[l] = W[l]-learning_rate*grads[\"dW\" + str(l)]\n",
    "        b[l] = b[l]-learning_rate*grads[\"db\" + str(l)]\n",
    "        \n",
    "    return W, b\n",
    "\n",
    "W, b = update_parameters(W, b, grads, 0.0001)"
   ]
  },
  {
   "cell_type": "code",
   "execution_count": 203,
   "id": "pending-invite",
   "metadata": {},
   "outputs": [
    {
     "name": "stdout",
     "output_type": "stream",
     "text": [
      "Cost after iteration 0: 2391241914.911227\n",
      "Cost after iteration 1000: 2391241909.258158\n",
      "Cost after iteration 2000: 2391241903.591017\n",
      "Cost after iteration 3000: 2391241897.911064\n",
      "Cost after iteration 4000: 2391241892.219572\n",
      "Cost after iteration 5000: 2391241886.517825\n",
      "Cost after iteration 6000: 2391241880.807121\n",
      "Cost after iteration 7000: 2391241875.088768\n",
      "Cost after iteration 8000: 2391241869.364082\n",
      "Cost after iteration 9000: 2391241863.634387\n",
      "Cost after iteration 10000: 2391241857.901014\n",
      "Cost after iteration 11000: 2391241852.165297\n",
      "Cost after iteration 12000: 2391241846.428574\n",
      "Cost after iteration 13000: 2391241840.692185\n",
      "Cost after iteration 14000: 2391241834.957470\n",
      "Cost after iteration 15000: 2391241829.225770\n",
      "Cost after iteration 16000: 2391241823.498418\n",
      "Cost after iteration 17000: 2391241817.776750\n",
      "Cost after iteration 18000: 2391241812.062090\n",
      "Cost after iteration 19000: 2391241806.355761\n",
      "Cost after iteration 20000: 2391241800.659074\n",
      "Cost after iteration 21000: 2391241794.973330\n",
      "Cost after iteration 22000: 2391241789.299823\n",
      "Cost after iteration 23000: 2391241783.639832\n",
      "Cost after iteration 24000: 2391241777.994619\n",
      "Cost after iteration 25000: 2391241772.365438\n",
      "Cost after iteration 26000: 2391241766.753522\n",
      "Cost after iteration 27000: 2391241761.160088\n",
      "Cost after iteration 28000: 2391241755.586334\n",
      "Cost after iteration 29000: 2391241750.033440\n",
      "Cost after iteration 30000: 2391241744.502562\n",
      "Cost after iteration 31000: 2391241738.994835\n",
      "Cost after iteration 32000: 2391241733.511376\n",
      "Cost after iteration 33000: 2391241728.053273\n",
      "Cost after iteration 34000: 2391241722.621588\n",
      "Cost after iteration 35000: 2391241717.217363\n",
      "Cost after iteration 36000: 2391241711.841609\n",
      "Cost after iteration 37000: 2391241706.495314\n",
      "Cost after iteration 38000: 2391241701.179433\n",
      "Cost after iteration 39000: 2391241695.894897\n",
      "Cost after iteration 40000: 2391241690.642607\n",
      "Cost after iteration 41000: 2391241685.423434\n",
      "Cost after iteration 42000: 2391241680.238218\n",
      "Cost after iteration 43000: 2391241675.087771\n",
      "Cost after iteration 44000: 2391241669.972872\n",
      "Cost after iteration 45000: 2391241664.894269\n",
      "Cost after iteration 46000: 2391241659.852682\n",
      "Cost after iteration 47000: 2391241654.848796\n",
      "Cost after iteration 48000: 2391241649.883264\n"
     ]
    },
    {
     "ename": "KeyboardInterrupt",
     "evalue": "",
     "output_type": "error",
     "traceback": [
      "\u001b[0;31m---------------------------------------------------------------------------\u001b[0m",
      "\u001b[0;31mKeyboardInterrupt\u001b[0m                         Traceback (most recent call last)",
      "\u001b[0;32m<ipython-input-203-59851190a662>\u001b[0m in \u001b[0;36m<module>\u001b[0;34m\u001b[0m\n\u001b[1;32m     15\u001b[0m \u001b[0mlearning_rate\u001b[0m \u001b[0;34m=\u001b[0m \u001b[0;36m0.001\u001b[0m\u001b[0;34m\u001b[0m\u001b[0;34m\u001b[0m\u001b[0m\n\u001b[1;32m     16\u001b[0m \u001b[0mnum_iterations\u001b[0m \u001b[0;34m=\u001b[0m \u001b[0;36m300000\u001b[0m\u001b[0;34m\u001b[0m\u001b[0;34m\u001b[0m\u001b[0m\n\u001b[0;32m---> 17\u001b[0;31m \u001b[0mpred\u001b[0m \u001b[0;34m=\u001b[0m \u001b[0mL_layer_model\u001b[0m\u001b[0;34m(\u001b[0m\u001b[0mlearning_rate\u001b[0m\u001b[0;34m,\u001b[0m \u001b[0mnum_iterations\u001b[0m\u001b[0;34m,\u001b[0m \u001b[0mprint_cost\u001b[0m\u001b[0;34m=\u001b[0m\u001b[0;32mTrue\u001b[0m\u001b[0;34m)\u001b[0m\u001b[0;34m\u001b[0m\u001b[0;34m\u001b[0m\u001b[0m\n\u001b[0m\u001b[1;32m     18\u001b[0m \u001b[0mplt\u001b[0m\u001b[0;34m.\u001b[0m\u001b[0mplot\u001b[0m\u001b[0;34m(\u001b[0m\u001b[0mX_init\u001b[0m\u001b[0;34m,\u001b[0m \u001b[0mY\u001b[0m\u001b[0;34m)\u001b[0m\u001b[0;34m\u001b[0m\u001b[0;34m\u001b[0m\u001b[0m\n\u001b[1;32m     19\u001b[0m \u001b[0mplt\u001b[0m\u001b[0;34m.\u001b[0m\u001b[0mplot\u001b[0m\u001b[0;34m(\u001b[0m\u001b[0mX_init\u001b[0m\u001b[0;34m,\u001b[0m \u001b[0mnp\u001b[0m\u001b[0;34m.\u001b[0m\u001b[0msqueeze\u001b[0m\u001b[0;34m(\u001b[0m\u001b[0mpred\u001b[0m\u001b[0;34m)\u001b[0m\u001b[0;34m)\u001b[0m\u001b[0;34m\u001b[0m\u001b[0;34m\u001b[0m\u001b[0m\n",
      "\u001b[0;32m<ipython-input-203-59851190a662>\u001b[0m in \u001b[0;36mL_layer_model\u001b[0;34m(learning_rate, num_iterations, print_cost)\u001b[0m\n\u001b[1;32m      9\u001b[0m         \u001b[0;32mif\u001b[0m \u001b[0mprint_cost\u001b[0m \u001b[0;32mand\u001b[0m \u001b[0mi\u001b[0m \u001b[0;34m%\u001b[0m \u001b[0;36m1000\u001b[0m \u001b[0;34m==\u001b[0m \u001b[0;36m0\u001b[0m\u001b[0;34m:\u001b[0m\u001b[0;34m\u001b[0m\u001b[0;34m\u001b[0m\u001b[0m\n\u001b[1;32m     10\u001b[0m             \u001b[0mprint\u001b[0m \u001b[0;34m(\u001b[0m\u001b[0;34m\"Cost after iteration %i: %f\"\u001b[0m \u001b[0;34m%\u001b[0m\u001b[0;34m(\u001b[0m\u001b[0mi\u001b[0m\u001b[0;34m,\u001b[0m \u001b[0mcosts\u001b[0m\u001b[0;34m)\u001b[0m\u001b[0;34m)\u001b[0m\u001b[0;34m\u001b[0m\u001b[0;34m\u001b[0m\u001b[0m\n\u001b[0;32m---> 11\u001b[0;31m         \u001b[0mgrads\u001b[0m \u001b[0;34m=\u001b[0m \u001b[0mbackward_pass\u001b[0m\u001b[0;34m(\u001b[0m\u001b[0mpred\u001b[0m\u001b[0;34m,\u001b[0m \u001b[0mY\u001b[0m\u001b[0;34m,\u001b[0m \u001b[0mcaches\u001b[0m\u001b[0;34m,\u001b[0m \u001b[0mL\u001b[0m\u001b[0;34m)\u001b[0m\u001b[0;34m\u001b[0m\u001b[0;34m\u001b[0m\u001b[0m\n\u001b[0m\u001b[1;32m     12\u001b[0m         \u001b[0mW\u001b[0m\u001b[0;34m,\u001b[0m \u001b[0mb\u001b[0m \u001b[0;34m=\u001b[0m \u001b[0mupdate_parameters\u001b[0m\u001b[0;34m(\u001b[0m\u001b[0mW\u001b[0m\u001b[0;34m,\u001b[0m \u001b[0mb\u001b[0m\u001b[0;34m,\u001b[0m \u001b[0mgrads\u001b[0m\u001b[0;34m,\u001b[0m \u001b[0mlearning_rate\u001b[0m\u001b[0;34m)\u001b[0m\u001b[0;34m\u001b[0m\u001b[0;34m\u001b[0m\u001b[0m\n\u001b[1;32m     13\u001b[0m \u001b[0;34m\u001b[0m\u001b[0m\n",
      "\u001b[0;32m<ipython-input-201-fedbaad87076>\u001b[0m in \u001b[0;36mbackward_pass\u001b[0;34m(A, Y, caches, L)\u001b[0m\n\u001b[1;32m     17\u001b[0m         \u001b[0mm\u001b[0m \u001b[0;34m=\u001b[0m \u001b[0mA_prev\u001b[0m\u001b[0;34m.\u001b[0m\u001b[0mshape\u001b[0m\u001b[0;34m[\u001b[0m\u001b[0;36m1\u001b[0m\u001b[0;34m]\u001b[0m\u001b[0;34m\u001b[0m\u001b[0;34m\u001b[0m\u001b[0m\n\u001b[1;32m     18\u001b[0m         \u001b[0mdZ\u001b[0m \u001b[0;34m=\u001b[0m \u001b[0mdA_prev\u001b[0m\u001b[0;34m*\u001b[0m\u001b[0msigmoid_der\u001b[0m\u001b[0;34m(\u001b[0m\u001b[0mZ\u001b[0m\u001b[0;34m)\u001b[0m\u001b[0;34m\u001b[0m\u001b[0;34m\u001b[0m\u001b[0m\n\u001b[0;32m---> 19\u001b[0;31m         \u001b[0mdW\u001b[0m \u001b[0;34m=\u001b[0m \u001b[0;34m(\u001b[0m\u001b[0;36m1\u001b[0m \u001b[0;34m/\u001b[0m \u001b[0mm\u001b[0m\u001b[0;34m)\u001b[0m\u001b[0;34m*\u001b[0m\u001b[0mnp\u001b[0m\u001b[0;34m.\u001b[0m\u001b[0mdot\u001b[0m\u001b[0;34m(\u001b[0m\u001b[0mdZ\u001b[0m\u001b[0;34m,\u001b[0m\u001b[0mA_prev\u001b[0m\u001b[0;34m.\u001b[0m\u001b[0mtranspose\u001b[0m\u001b[0;34m(\u001b[0m\u001b[0;34m)\u001b[0m\u001b[0;34m)\u001b[0m\u001b[0;34m\u001b[0m\u001b[0;34m\u001b[0m\u001b[0m\n\u001b[0m\u001b[1;32m     20\u001b[0m         \u001b[0mdb\u001b[0m \u001b[0;34m=\u001b[0m \u001b[0;34m(\u001b[0m\u001b[0;36m1\u001b[0m \u001b[0;34m/\u001b[0m \u001b[0mm\u001b[0m\u001b[0;34m)\u001b[0m\u001b[0;34m*\u001b[0m\u001b[0mnp\u001b[0m\u001b[0;34m.\u001b[0m\u001b[0msum\u001b[0m\u001b[0;34m(\u001b[0m\u001b[0mdZ\u001b[0m\u001b[0;34m,\u001b[0m \u001b[0maxis\u001b[0m\u001b[0;34m=\u001b[0m\u001b[0;36m1\u001b[0m\u001b[0;34m,\u001b[0m \u001b[0mkeepdims\u001b[0m\u001b[0;34m=\u001b[0m\u001b[0;32mTrue\u001b[0m\u001b[0;34m)\u001b[0m\u001b[0;34m\u001b[0m\u001b[0;34m\u001b[0m\u001b[0m\n\u001b[1;32m     21\u001b[0m         \u001b[0;32mif\u001b[0m \u001b[0ml\u001b[0m \u001b[0;34m>\u001b[0m \u001b[0;36m1\u001b[0m\u001b[0;34m:\u001b[0m\u001b[0;34m\u001b[0m\u001b[0;34m\u001b[0m\u001b[0m\n",
      "\u001b[0;32m<__array_function__ internals>\u001b[0m in \u001b[0;36mdot\u001b[0;34m(*args, **kwargs)\u001b[0m\n",
      "\u001b[0;31mKeyboardInterrupt\u001b[0m: "
     ]
    }
   ],
   "source": [
    "def L_layer_model(learning_rate, num_iterations, print_cost=False):\n",
    "    X, W, b, L = init(layer_dims)\n",
    "    X_init = X\n",
    "    Y = np.array(origin_functon(X))\n",
    "    X = X.reshape(1,X.shape[0])\n",
    "    for i in range(0, num_iterations):\n",
    "        pred, caches = feedforward(X, W, b, L)\n",
    "        costs = get_cost(Y, pred)\n",
    "        if print_cost and i % 1000 == 0:\n",
    "            print (\"Cost after iteration %i: %f\" %(i, costs))\n",
    "        grads = backward_pass(pred, Y, caches, L)\n",
    "        W, b = update_parameters(W, b, grads, learning_rate)\n",
    "    \n",
    "    return pred\n",
    "learning_rate = 0.001\n",
    "num_iterations = 300000\n",
    "pred = L_layer_model(learning_rate, num_iterations, print_cost=True)\n",
    "plt.plot(X_init, Y)\n",
    "plt.plot(X_init, np.squeeze(pred))"
   ]
  },
  {
   "cell_type": "code",
   "execution_count": 66,
   "id": "environmental-ebony",
   "metadata": {},
   "outputs": [
    {
     "name": "stdout",
     "output_type": "stream",
     "text": [
      "-------\n"
     ]
    },
    {
     "data": {
      "text/plain": [
       "1.4499999999999995"
      ]
     },
     "execution_count": 66,
     "metadata": {},
     "output_type": "execute_result"
    }
   ],
   "source": [
    "np.mean(X)\n",
    "print('-------')\n",
    "np.median(X)"
   ]
  },
  {
   "cell_type": "code",
   "execution_count": null,
   "id": "partial-faculty",
   "metadata": {},
   "outputs": [],
   "source": []
  },
  {
   "cell_type": "code",
   "execution_count": null,
   "id": "permanent-estonia",
   "metadata": {},
   "outputs": [],
   "source": []
  },
  {
   "cell_type": "code",
   "execution_count": null,
   "id": "regulation-bones",
   "metadata": {},
   "outputs": [],
   "source": []
  }
 ],
 "metadata": {
  "kernelspec": {
   "display_name": "Python 3",
   "language": "python",
   "name": "python3"
  },
  "language_info": {
   "codemirror_mode": {
    "name": "ipython",
    "version": 3
   },
   "file_extension": ".py",
   "mimetype": "text/x-python",
   "name": "python",
   "nbconvert_exporter": "python",
   "pygments_lexer": "ipython3",
   "version": "3.6.9"
  }
 },
 "nbformat": 4,
 "nbformat_minor": 5
}
